{
 "cells": [
  {
   "cell_type": "markdown",
   "metadata": {},
   "source": [
    "### Introduction"
   ]
  },
  {
   "cell_type": "markdown",
   "metadata": {},
   "source": [
    "This notebook is created and shared to help people learn and understand the process of solving a problem which involves text variables. Apart from creating new variables, you'll learn to extract ~650 text (count) features and use them in training a xgboost model. This script scores ~0.70 on public leaderboard.\n",
    "For any questions, feel free to raise issues."
   ]
  },
  {
   "cell_type": "code",
   "execution_count": 1,
   "metadata": {
    "collapsed": true
   },
   "outputs": [],
   "source": [
    "# load libraries\n",
    "\n",
    "import pandas as pd\n",
    "import numpy as np\n",
    "import re\n",
    "import datetime\n",
    "from nltk.corpus import stopwords\n",
    "from sklearn.preprocessing import LabelEncoder\n",
    "from nltk.stem.snowball import SnowballStemmer\n",
    "from sklearn.feature_extraction.text import CountVectorizer\n",
    "import xgboost as xgb\n",
    "\n",
    "pd.set_option('display.max_colwidth',100)"
   ]
  },
  {
   "cell_type": "code",
   "execution_count": 177,
   "metadata": {
    "collapsed": true
   },
   "outputs": [],
   "source": [
    "#load data\n",
    "train = pd.read_csv('train.csv')\n",
    "test = pd.read_csv('test.csv')"
   ]
  },
  {
   "cell_type": "code",
   "execution_count": 98,
   "metadata": {
    "collapsed": false
   },
   "outputs": [],
   "source": [
    "# convert unix time format\n",
    "unix_cols = ['deadline','state_changed_at','launched_at','created_at']\n",
    "\n",
    "for x in unix_cols:\n",
    "    train[x] = train[x].apply(lambda k: datetime.datetime.fromtimestamp(int(k)).strftime('%Y-%m-%d %H:%M:%S'))\n",
    "    test[x] = test[x].apply(lambda k: datetime.datetime.fromtimestamp(int(k)).strftime('%Y-%m-%d %H:%M:%S'))\n"
   ]
  },
  {
   "cell_type": "markdown",
   "metadata": {},
   "source": [
    "### Some features"
   ]
  },
  {
   "cell_type": "code",
   "execution_count": 99,
   "metadata": {
    "collapsed": true
   },
   "outputs": [],
   "source": [
    "cols_to_use = ['name','desc']\n",
    "len_feats = ['name_len','desc_len']\n",
    "count_feats = ['name_count','desc_count']\n",
    "\n",
    "for i in np.arange(2):\n",
    "    train[len_feats[i]] = train[cols_to_use[i]].apply(str).apply(len)\n",
    "    test[len_feats[i]] = test[cols_to_use[i]].apply(str).apply(len)"
   ]
  },
  {
   "cell_type": "code",
   "execution_count": 100,
   "metadata": {
    "collapsed": true
   },
   "outputs": [],
   "source": [
    "train['name_count'] = train['name'].str.split().str.len()\n",
    "train['desc_count'] = train['desc'].str.split().str.len()\n",
    "\n",
    "test['name_count'] = test['name'].str.split().str.len()\n",
    "test['desc_count'] = test['desc'].str.split().str.len()"
   ]
  },
  {
   "cell_type": "code",
   "execution_count": 101,
   "metadata": {
    "collapsed": true
   },
   "outputs": [],
   "source": [
    "train['keywords_len'] = train['keywords'].str.len()\n",
    "train['keywords_count'] = train['keywords'].str.split('-').str.len()\n",
    "\n",
    "test['keywords_len'] = test['keywords'].str.len()\n",
    "test['keywords_count'] = test['keywords'].str.split('-').str.len()"
   ]
  },
  {
   "cell_type": "markdown",
   "metadata": {},
   "source": [
    "### Some more features"
   ]
  },
  {
   "cell_type": "code",
   "execution_count": 102,
   "metadata": {
    "collapsed": true
   },
   "outputs": [],
   "source": [
    "# converting string variables to datetime\n",
    "unix_cols = ['deadline','state_changed_at','launched_at','created_at']\n",
    "\n",
    "for x in unix_cols:\n",
    "    train[x] = train[x].apply(lambda k: datetime.datetime.strptime(k, '%Y-%m-%d %H:%M:%S'))\n",
    "    test[x] = test[x].apply(lambda k: datetime.datetime.strptime(k, '%Y-%m-%d %H:%M:%S'))"
   ]
  },
  {
   "cell_type": "code",
   "execution_count": 103,
   "metadata": {
    "collapsed": true
   },
   "outputs": [],
   "source": [
    "# there should be simpler way - might take longer\n",
    "# creating list with time difference between 1) launched_at and created_at 2) deadline and launched_at\n",
    "\n",
    "time1 = []\n",
    "time3 = []\n",
    "for i in np.arange(train.shape[0]):\n",
    "    time1.append(np.round((train.loc[i, 'launched_at'] - train.loc[i, 'created_at']).total_seconds()).astype(int))\n",
    "    time3.append(np.round((train.loc[i, 'deadline'] - train.loc[i, 'launched_at']).total_seconds()).astype(int))"
   ]
  },
  {
   "cell_type": "code",
   "execution_count": 104,
   "metadata": {
    "collapsed": true
   },
   "outputs": [],
   "source": [
    "train['time1'] = np.log(time1)\n",
    "train['time3'] = np.log(time3)"
   ]
  },
  {
   "cell_type": "code",
   "execution_count": 105,
   "metadata": {
    "collapsed": true
   },
   "outputs": [],
   "source": [
    "# for test data\n",
    "time5 = []\n",
    "time6 = []\n",
    "for i in np.arange(test.shape[0]):\n",
    "    time5.append(np.round((test.loc[i, 'launched_at'] - test.loc[i, 'created_at']).total_seconds()).astype(int))\n",
    "    time6.append(np.round((test.loc[i, 'deadline'] - test.loc[i, 'launched_at']).total_seconds()).astype(int))"
   ]
  },
  {
   "cell_type": "code",
   "execution_count": 106,
   "metadata": {
    "collapsed": true
   },
   "outputs": [],
   "source": [
    "test['time1'] = np.log(time5)\n",
    "test['time3'] = np.log(time6)"
   ]
  },
  {
   "cell_type": "code",
   "execution_count": 107,
   "metadata": {
    "collapsed": true
   },
   "outputs": [],
   "source": [
    "feat = ['disable_communication','country']\n",
    "\n",
    "for x in feat:\n",
    "    le = LabelEncoder()\n",
    "    le.fit(list(train[x].values) + list(test[x].values))\n",
    "    train[x] = le.transform(list(train[x]))\n",
    "    test[x] = le.transform(list(test[x]))"
   ]
  },
  {
   "cell_type": "code",
   "execution_count": 109,
   "metadata": {
    "collapsed": true
   },
   "outputs": [],
   "source": [
    "train['goal'] = np.log1p(train['goal'])\n",
    "test['goal'] = np.log1p(test['goal'])"
   ]
  },
  {
   "cell_type": "markdown",
   "metadata": {},
   "source": [
    "### Text Cleaning"
   ]
  },
  {
   "cell_type": "code",
   "execution_count": 110,
   "metadata": {
    "collapsed": true
   },
   "outputs": [],
   "source": [
    "# creating a full list of descriptions from train and etst\n",
    "kickdesc = pd.Series(train['desc'].tolist() + test['desc'].tolist()).astype(str)"
   ]
  },
  {
   "cell_type": "code",
   "execution_count": 111,
   "metadata": {
    "collapsed": true
   },
   "outputs": [],
   "source": [
    "# this function cleans punctuations, digits and irregular tabs. Then converts the sentences to lower\n",
    "def desc_clean(word):\n",
    "    p1 = re.sub(pattern='(\\W+)|(\\d+)|(\\s+)',repl=' ',string=word)\n",
    "    p1 = p1.lower()\n",
    "    return p1\n",
    "\n",
    "kickdesc = kickdesc.map(desc_clean)"
   ]
  },
  {
   "cell_type": "code",
   "execution_count": 113,
   "metadata": {
    "collapsed": false
   },
   "outputs": [],
   "source": [
    "stop = set(stopwords.words('english'))\n",
    "kickdesc = [[x for x in x.split() if x not in stop] for x in kickdesc]\n",
    "\n",
    "stemmer = SnowballStemmer(language='english')\n",
    "kickdesc = [[stemmer.stem(x) for x in x] for x in kickdesc]\n",
    "\n",
    "kickdesc = [[x for x in x if len(x) > 2] for x in kickdesc]\n",
    "\n",
    "kickdesc = [' '.join(x) for x in kickdesc]"
   ]
  },
  {
   "cell_type": "markdown",
   "metadata": {},
   "source": [
    "### Creating Count Features"
   ]
  },
  {
   "cell_type": "code",
   "execution_count": 147,
   "metadata": {
    "collapsed": true
   },
   "outputs": [],
   "source": [
    "# Due to memory error, limited the number of features to 650\n",
    "cv = CountVectorizer(max_features=650)"
   ]
  },
  {
   "cell_type": "code",
   "execution_count": 148,
   "metadata": {
    "collapsed": false
   },
   "outputs": [],
   "source": [
    "alldesc = cv.fit_transform(kickdesc).todense()"
   ]
  },
  {
   "cell_type": "code",
   "execution_count": 150,
   "metadata": {
    "collapsed": true
   },
   "outputs": [],
   "source": [
    "#create a data frame\n",
    "combine = pd.DataFrame(alldesc)\n",
    "combine.rename(columns= lambda x: 'variable_'+ str(x), inplace=True)"
   ]
  },
  {
   "cell_type": "code",
   "execution_count": 157,
   "metadata": {
    "collapsed": true
   },
   "outputs": [],
   "source": [
    "#split the text features\n",
    "\n",
    "train_text = combine[:train.shape[0]]\n",
    "test_text = combine[train.shape[0]:]\n",
    "\n",
    "test_text.reset_index(drop=True,inplace=True)"
   ]
  },
  {
   "cell_type": "markdown",
   "metadata": {},
   "source": [
    "### Finalizing train and test data before merging"
   ]
  },
  {
   "cell_type": "code",
   "execution_count": 162,
   "metadata": {
    "collapsed": true
   },
   "outputs": [],
   "source": [
    "cols_to_use = ['name_len','desc_len','keywords_len','name_count','desc_count','keywords_count','time1','time3','goal']"
   ]
  },
  {
   "cell_type": "code",
   "execution_count": 198,
   "metadata": {
    "collapsed": true
   },
   "outputs": [],
   "source": [
    "target = train['final_status']"
   ]
  },
  {
   "cell_type": "code",
   "execution_count": 168,
   "metadata": {
    "collapsed": true
   },
   "outputs": [],
   "source": [
    "train = train.loc[:,cols_to_use]\n",
    "test = test.loc[:,cols_to_use]"
   ]
  },
  {
   "cell_type": "code",
   "execution_count": 174,
   "metadata": {
    "collapsed": false
   },
   "outputs": [],
   "source": [
    "X_train = pd.concat([train, train_text],axis=1)\n",
    "X_test = pd.concat([test, test_text],axis=1)"
   ]
  },
  {
   "cell_type": "code",
   "execution_count": 175,
   "metadata": {
    "collapsed": false
   },
   "outputs": [
    {
     "name": "stdout",
     "output_type": "stream",
     "text": [
      "(108129, 659)\n",
      "(63465, 659)\n"
     ]
    }
   ],
   "source": [
    "print X_train.shape\n",
    "print X_test.shape"
   ]
  },
  {
   "cell_type": "markdown",
   "metadata": {},
   "source": [
    "### Model Training"
   ]
  },
  {
   "cell_type": "code",
   "execution_count": 180,
   "metadata": {
    "collapsed": true
   },
   "outputs": [],
   "source": [
    "dtrain = xgb.DMatrix(data=X_train, label = target)\n",
    "dtest = xgb.DMatrix(data=X_test)"
   ]
  },
  {
   "cell_type": "code",
   "execution_count": 185,
   "metadata": {
    "collapsed": true
   },
   "outputs": [],
   "source": [
    "params = {\n",
    "    'objective':'binary:logistic',\n",
    "    'eval_metric':'error',\n",
    "    'eta':0.025,\n",
    "    'max_depth':6,\n",
    "    'subsample':0.7,\n",
    "    'colsample_bytree':0.7,\n",
    "    'min_child_weight':5\n",
    "    \n",
    "}"
   ]
  },
  {
   "cell_type": "code",
   "execution_count": 186,
   "metadata": {
    "collapsed": false
   },
   "outputs": [
    {
     "name": "stdout",
     "output_type": "stream",
     "text": [
      "[0]\ttrain-error:0.312506+0.000818869\ttest-error:0.315126+0.00200614\n",
      "[10]\ttrain-error:0.309036+0.00111051\ttest-error:0.312694+0.00309961\n",
      "[20]\ttrain-error:0.308571+0.00121385\ttest-error:0.311917+0.00244751\n",
      "[30]\ttrain-error:0.307829+0.00111239\ttest-error:0.311871+0.00226141\n",
      "[40]\ttrain-error:0.306412+0.000131922\ttest-error:0.310502+0.00297732\n",
      "[50]\ttrain-error:0.3044+0.00051706\ttest-error:0.308846+0.00239344\n",
      "[60]\ttrain-error:0.302541+0.000442086\ttest-error:0.307773+0.00231223\n",
      "[70]\ttrain-error:0.301077+0.000528266\ttest-error:0.306812+0.00204724\n",
      "[80]\ttrain-error:0.29982+0.000589525\ttest-error:0.305988+0.00195492\n",
      "[90]\ttrain-error:0.298257+0.000508031\ttest-error:0.305064+0.00191186\n",
      "[100]\ttrain-error:0.297228+0.000279615\ttest-error:0.303723+0.00173837\n",
      "[110]\ttrain-error:0.296349+0.000327545\ttest-error:0.303223+0.00172593\n",
      "[120]\ttrain-error:0.295457+0.00028638\ttest-error:0.302289+0.00191928\n",
      "[130]\ttrain-error:0.294583+0.000378843\ttest-error:0.301623+0.00154688\n",
      "[140]\ttrain-error:0.293783+0.000438995\ttest-error:0.300948+0.00175078\n",
      "[150]\ttrain-error:0.292814+0.000369126\ttest-error:0.300467+0.00155916\n",
      "[160]\ttrain-error:0.292169+0.000444825\ttest-error:0.299968+0.00178122\n",
      "[170]\ttrain-error:0.291249+0.00034968\ttest-error:0.299459+0.00213267\n",
      "[180]\ttrain-error:0.290553+0.000387982\ttest-error:0.298793+0.00213854\n",
      "[190]\ttrain-error:0.28976+0.00040561\ttest-error:0.298321+0.00204807\n",
      "[200]\ttrain-error:0.289114+0.000467604\ttest-error:0.297748+0.00208411\n",
      "[210]\ttrain-error:0.288467+0.000442353\ttest-error:0.297507+0.00212083\n",
      "[220]\ttrain-error:0.287843+0.000490146\ttest-error:0.297008+0.00234605\n",
      "[230]\ttrain-error:0.287285+0.000393046\ttest-error:0.296879+0.00223639\n",
      "[240]\ttrain-error:0.286751+0.000357893\ttest-error:0.296574+0.00248519\n",
      "[250]\ttrain-error:0.286134+0.000314877\ttest-error:0.296009+0.00236468\n",
      "[260]\ttrain-error:0.285519+0.000468298\ttest-error:0.295843+0.00219033\n",
      "[270]\ttrain-error:0.284932+0.000440225\ttest-error:0.295658+0.00224829\n",
      "[280]\ttrain-error:0.28452+0.000440191\ttest-error:0.295399+0.0023164\n",
      "[290]\ttrain-error:0.283933+0.000573286\ttest-error:0.295436+0.00240771\n",
      "[300]\ttrain-error:0.28351+0.000553644\ttest-error:0.295094+0.00255344\n",
      "[310]\ttrain-error:0.283059+0.00042736\ttest-error:0.294622+0.00241165\n",
      "[320]\ttrain-error:0.282467+0.000447172\ttest-error:0.294243+0.00222645\n",
      "[330]\ttrain-error:0.281928+0.000534553\ttest-error:0.294298+0.0023867\n",
      "[340]\ttrain-error:0.281459+0.000575282\ttest-error:0.293965+0.0023361\n",
      "[350]\ttrain-error:0.28105+0.000749895\ttest-error:0.293947+0.00236084\n",
      "[360]\ttrain-error:0.280581+0.000750061\ttest-error:0.293669+0.00230567\n",
      "[370]\ttrain-error:0.280201+0.000686446\ttest-error:0.293632+0.00227019\n",
      "[380]\ttrain-error:0.279804+0.000762174\ttest-error:0.293457+0.00198204\n",
      "[390]\ttrain-error:0.279177+0.000770605\ttest-error:0.293401+0.00211599\n",
      "[400]\ttrain-error:0.278974+0.00074798\ttest-error:0.293438+0.00208914\n",
      "[410]\ttrain-error:0.278409+0.000716594\ttest-error:0.293207+0.00205472\n",
      "[420]\ttrain-error:0.278042+0.000809643\ttest-error:0.293078+0.00229264\n",
      "[430]\ttrain-error:0.27773+0.000680744\ttest-error:0.293078+0.00194402\n",
      "[440]\ttrain-error:0.277392+0.00069521\ttest-error:0.292957+0.00195425\n",
      "[450]\ttrain-error:0.276805+0.000554099\ttest-error:0.292754+0.00202523\n",
      "[460]\ttrain-error:0.276335+0.000462337\ttest-error:0.292356+0.00195339\n",
      "[470]\ttrain-error:0.276046+0.000483488\ttest-error:0.292171+0.00215688\n",
      "[480]\ttrain-error:0.275612+0.000481538\ttest-error:0.292153+0.00231926\n",
      "[490]\ttrain-error:0.275316+0.000540829\ttest-error:0.29206+0.0023093\n",
      "[500]\ttrain-error:0.274876+0.000555857\ttest-error:0.291893+0.00216299\n",
      "[510]\ttrain-error:0.274601+0.000543743\ttest-error:0.291727+0.0022489\n",
      "[520]\ttrain-error:0.274345+0.000556289\ttest-error:0.291672+0.00212988\n",
      "[530]\ttrain-error:0.273884+0.000640932\ttest-error:0.291671+0.002083\n",
      "[540]\ttrain-error:0.273445+0.000572263\ttest-error:0.291431+0.00215843\n",
      "[550]\ttrain-error:0.27307+0.000643974\ttest-error:0.291533+0.00208399\n",
      "[560]\ttrain-error:0.272839+0.000715068\ttest-error:0.291367+0.0021741\n",
      "[570]\ttrain-error:0.272474+0.000693709\ttest-error:0.291145+0.00218187\n",
      "[580]\ttrain-error:0.272116+0.000735978\ttest-error:0.291061+0.00239614\n",
      "[590]\ttrain-error:0.27172+0.000671488\ttest-error:0.291052+0.00220047\n",
      "[600]\ttrain-error:0.271392+0.000581353\ttest-error:0.291061+0.00205433\n",
      "[610]\ttrain-error:0.270997+0.000704158\ttest-error:0.291034+0.00215672\n",
      "[620]\ttrain-error:0.27073+0.00065256\ttest-error:0.290978+0.00208651\n",
      "[630]\ttrain-error:0.270305+0.00058566\ttest-error:0.290876+0.00236142\n",
      "[640]\ttrain-error:0.269984+0.000583791\ttest-error:0.290756+0.00241029\n",
      "[650]\ttrain-error:0.269609+0.000637878\ttest-error:0.290543+0.00218322\n",
      "[660]\ttrain-error:0.269343+0.000666656\ttest-error:0.290432+0.00199139\n",
      "[670]\ttrain-error:0.268943+0.000610928\ttest-error:0.290303+0.00202394\n",
      "[680]\ttrain-error:0.268562+0.000486423\ttest-error:0.290025+0.00214464\n",
      "[690]\ttrain-error:0.268263+0.000557561\ttest-error:0.290072+0.0020426\n",
      "[700]\ttrain-error:0.267801+0.000551476\ttest-error:0.289942+0.00195377\n",
      "[710]\ttrain-error:0.267494+0.000522724\ttest-error:0.289942+0.00203917\n",
      "[720]\ttrain-error:0.267221+0.000533431\ttest-error:0.290229+0.00199579\n",
      "[730]\ttrain-error:0.266888+0.000576349\ttest-error:0.289979+0.00215134\n",
      "[740]\ttrain-error:0.266578+0.000550324\ttest-error:0.289794+0.00203336\n",
      "[750]\ttrain-error:0.266263+0.000577213\ttest-error:0.289877+0.00193757\n",
      "[760]\ttrain-error:0.266023+0.000512068\ttest-error:0.289794+0.00204126\n",
      "[770]\ttrain-error:0.265692+0.000416448\ttest-error:0.289618+0.00217298\n",
      "[780]\ttrain-error:0.26532+0.000458632\ttest-error:0.289387+0.0019424\n",
      "[790]\ttrain-error:0.26507+0.000483665\ttest-error:0.289119+0.00195537\n",
      "[800]\ttrain-error:0.26483+0.000291451\ttest-error:0.289064+0.00178512\n",
      "[810]\ttrain-error:0.264453+0.00026856\ttest-error:0.288814+0.00180906\n",
      "[820]\ttrain-error:0.26431+0.000318559\ttest-error:0.288823+0.00181794\n",
      "[830]\ttrain-error:0.264018+0.000304194\ttest-error:0.288851+0.00188464\n",
      "[840]\ttrain-error:0.263632+0.000370743\ttest-error:0.288694+0.00201019\n",
      "[850]\ttrain-error:0.263352+0.000371047\ttest-error:0.288518+0.00189282\n",
      "[860]\ttrain-error:0.262953+0.000410568\ttest-error:0.288536+0.00195185\n",
      "[870]\ttrain-error:0.26261+0.000301595\ttest-error:0.288472+0.00210928\n",
      "[880]\ttrain-error:0.262349+0.000334279\ttest-error:0.288361+0.00204547\n",
      "[890]\ttrain-error:0.262137+0.000331987\ttest-error:0.288176+0.0019154\n",
      "[900]\ttrain-error:0.261792+0.00027822\ttest-error:0.28825+0.00200458\n",
      "[910]\ttrain-error:0.261489+0.000354748\ttest-error:0.287972+0.00209926\n",
      "[920]\ttrain-error:0.261239+0.000327636\ttest-error:0.28825+0.00186055\n",
      "[930]\ttrain-error:0.260909+0.000239154\ttest-error:0.287963+0.00191734\n",
      "[940]\ttrain-error:0.260596+0.000299306\ttest-error:0.287954+0.00166505\n",
      "[950]\ttrain-error:0.260319+0.000246223\ttest-error:0.287797+0.00174056\n",
      "[960]\ttrain-error:0.260134+0.000339131\ttest-error:0.287639+0.00181021\n",
      "[970]\ttrain-error:0.25991+0.000288789\ttest-error:0.287648+0.00182037\n",
      "[980]\ttrain-error:0.259715+0.000294464\ttest-error:0.287695+0.00192808\n",
      "[990]\ttrain-error:0.259422+0.000406691\ttest-error:0.287565+0.0019653\n"
     ]
    }
   ],
   "source": [
    "# You can probably get better accuracy with rounds > 1000. \n",
    "bst = xgb.cv(params, dtrain, num_boost_round=1000, early_stopping_rounds=40,nfold=5L,verbose_eval=10)"
   ]
  },
  {
   "cell_type": "code",
   "execution_count": 187,
   "metadata": {
    "collapsed": true
   },
   "outputs": [],
   "source": [
    "bst_train = xgb.train(params, dtrain, num_boost_round=1000)"
   ]
  },
  {
   "cell_type": "code",
   "execution_count": 188,
   "metadata": {
    "collapsed": true
   },
   "outputs": [],
   "source": [
    "p_test = bst_train.predict(dtest)"
   ]
  },
  {
   "cell_type": "code",
   "execution_count": 189,
   "metadata": {
    "collapsed": true
   },
   "outputs": [],
   "source": [
    "sub = pd.DataFrame()\n",
    "sub['project_id'] = test['project_id']\n",
    "sub['final_status'] = p_test"
   ]
  },
  {
   "cell_type": "code",
   "execution_count": 194,
   "metadata": {
    "collapsed": false
   },
   "outputs": [],
   "source": [
    "sub['final_status'] = [1 if x > 0.5 else 0 for x in sub['final_status']]"
   ]
  },
  {
   "cell_type": "code",
   "execution_count": 196,
   "metadata": {
    "collapsed": true
   },
   "outputs": [],
   "source": [
    "sub.to_csv(\"xgb_with_python_feats.csv\",index=False) #0.70"
   ]
  },
  {
   "cell_type": "code",
   "execution_count": null,
   "metadata": {
    "collapsed": true
   },
   "outputs": [],
   "source": []
  }
 ],
 "metadata": {
  "kernelspec": {
   "display_name": "Python 2",
   "language": "python",
   "name": "python2"
  },
  "language_info": {
   "codemirror_mode": {
    "name": "ipython",
    "version": 2
   },
   "file_extension": ".py",
   "mimetype": "text/x-python",
   "name": "python",
   "nbconvert_exporter": "python",
   "pygments_lexer": "ipython2",
   "version": "2.7.13"
  }
 },
 "nbformat": 4,
 "nbformat_minor": 2
}
